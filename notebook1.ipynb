{
 "cells": [
  {
   "cell_type": "markdown",
   "id": "bf1e4e93",
   "metadata": {
    "deletable": false,
    "editable": false
   },
   "source": [
    "<img src=\"https://www.sturgischarterschool.com/wp-content/uploads/2019/06/sturgisheader_logo.png\" alt=\"sturgis\" width=\"250\" align=\"right\"/>\n",
    "\n",
    "## Computer Science 'Another Layer of Abstraction' notebook 1\n",
    "### Sturgis Charter Public School \n",
    "\n"
   ]
  },
  {
   "cell_type": "markdown",
   "id": "60694f86",
   "metadata": {},
   "source": [
    "Student: [your name]\n",
    "\n",
    "Collaborators: [N/A]\n",
    "\n",
    "Notes to the teacher: [N/A]"
   ]
  },
  {
   "cell_type": "markdown",
   "id": "38b1ce7d",
   "metadata": {
    "deletable": false,
    "editable": false
   },
   "source": [
    "#### Welcome to Computer Science. This is your first homework assignment. The due date is posted on google classroom. We will be using a combination of google classroom and github for assignments. Grades will remain on google classroom, while downloading and 'pushing' the assignment will be done through github. \n",
    "\n",
    "#### In order to use jupyter notebooks you will need the following on your computer. This will come pre-loaded on some class computers (but not all). You may want to use your personal computer for assignments. You are welcome and encouraged to do so; however, please sign a waiver (provided in google classroom). \n",
    "\n",
    "Necessary software:\n",
    "* github -> this is what allows you to access a remote repository and modify it locally, then submit back to the remote repository. \n",
    "* anaconda -> acts as a host for jupyter notebooks. \n",
    "* visual Studio Installer -> this may not be necessary for mac or linux users\n",
    "* Rust -> used while installing jupyter notebook\n",
    "* Pip -> an installer\n",
    "* Jupyter notebook -> allows you to create a local server that can interact with .ipynb files\n",
    "\n",
    "If you plan on installing these things on your personal device, you may ask for directions on how to do so."
   ]
  },
  {
   "cell_type": "markdown",
   "id": "e177f322",
   "metadata": {
    "deletable": false,
    "editable": false
   },
   "source": [
    "### Learning Objectives for notebook 1\n",
    "* learn how to use a jupyter notebook\n",
    "* understand how to use various data types and statements in python\n",
    "* understand functions and classes"
   ]
  },
  {
   "cell_type": "markdown",
   "id": "4f3f7bb1",
   "metadata": {
    "deletable": false,
    "editable": false
   },
   "source": [
    "#### jupyter notebooks\n",
    "This is a jupyter notebook. It's a dynamic environment where strong visual components and code can co-exist. It's a learning rich environment where you can easily test small components of code. It is also an environment that many working professionals use and reference. \n",
    "\n",
    "#### cells\n",
    "\n",
    "A jupyter notebook consists of cells. Each cell can be run independently of other cells. They are generally run sequentially from top to bottom. Additionally you as the user can insert cells. Some cells will be immutable (can't be changed). Some cells (such as this one) are not code, but rather a document type called markdown. Other cells are python cells. To run a cell you simply click on it and press the Run button at the top. Alternatively press `shift + enter` after selecting the cell. \n",
    "\n",
    "You can also reset the turn of the notebook by selecting `kernel -> Restart and Clear Output`"
   ]
  },
  {
   "cell_type": "code",
   "execution_count": null,
   "id": "a23eddf8",
   "metadata": {},
   "outputs": [],
   "source": [
    "#run me!\n",
    "a = \"This is your teacher saying, \\'hello\\'.\"\n",
    "print(a)"
   ]
  },
  {
   "cell_type": "code",
   "execution_count": null,
   "id": "6f467631",
   "metadata": {},
   "outputs": [],
   "source": [
    "#now see if you can say hello back.\n",
    "b = \"\"\n",
    "print(b)\n",
    "assert b == 'Hello, teacher!', \"Wait! You didn't say hello!\""
   ]
  },
  {
   "cell_type": "markdown",
   "id": "568ee8c7",
   "metadata": {
    "deletable": false,
    "editable": false
   },
   "source": [
    "And it's as simple as that! Feel free to add cells while you are working on your solution. Simply be careful to not make your code unnecessarily confusing. Reading code is difficult enough as it is. A couple things to note. \n",
    "* `#` allows you to make a comment that is not run by the code. Alternatively for a big chunk you can `\"\"\"your chunk of text/code that the interpreter will ignore\"\"\"`. It is very helpful to communicate what your code is doing it while it is doing it. Trust me on this, sometimes the one who appreciates it the most is your future self. \n",
    "* Did you notice that line with the bold `assert` statement? And what's up with the `==`. This is going to be common practice for me as a teacher to ensure your code is doing what it should be doing. That cell is asking, 'does the variable `b` have the string `'Hello, teacher!'` in it? If it doesn't it will throw an error. Errors are no fun. Then you have to debug. Bugs are without a doubt a programmer's least favorite animal. Most of the time the errors will be because you have something that the interpreter doesn't understand. Check this out. "
   ]
  },
  {
   "cell_type": "code",
   "execution_count": null,
   "id": "582e3421",
   "metadata": {},
   "outputs": [],
   "source": [
    "a = '1'\n",
    "b = 2\n",
    "c = a + b\n",
    "print(c)"
   ]
  },
  {
   "cell_type": "markdown",
   "id": "9a2b72c2",
   "metadata": {
    "deletable": false,
    "editable": false
   },
   "source": [
    "#### Data types\n",
    "What's happening in the cell above? The problem is that you gave it two different data types. I want you to imagine that you ask your friend what's `2 + 'high-five!'` Is the answer seven? You may not throw an error, but you're probably tempted to. There are actually programming languages that will simply answer `7`, Python simply tells you to stop being confusing. So let's talk about some of the main data types. \n",
    "\n",
    "* `int` short for intiger, a very common data type, whole numbers\n",
    "* `float` the simple explanation is numbers with decimal points\n",
    "* `char` a single character. e.g. 'a', or 'z'\n",
    "* `str` a group of characters. Note! 1 and '1' are not the same. One is an int, and the other is a char\n",
    "* `list` a grouping of whatever you want in sequential order. These are mutable.\n",
    "* `tuple` a grouping of whatever you want in sequential order. These are immutable. \n",
    "\n",
    "There are others, but we're going to stick with these for starters. Keep in mind one of the most *common* bugs is data types that don't match up.  \n",
    "\n",
    "#### Variables and constants\n",
    "Most of the time you are going to be working with variables. A variable is basically the name for some set of data. The name and data can be changed quite easily. Examples of variables include what are above `a`, `b` and `c`. Note, however, that I could name those variables whatever I want, not just alphabetical characters. For example, I might want to make it clear that my variable is a `counter`. \n",
    "\n",
    "#### Statements\n",
    "In addition to data types another key piece we want to get off the ground are some statements. We're going to start with two.\n",
    "\n",
    "* `if` is a conditional statement. It asks, is something true, and if it is, then do whatever comes next.\n",
    "* `for` says go through each part of the data. While we are going through a piece of data, it's common to run complex algorithms on each piece.\n",
    "\n",
    "See examples below.\n",
    "\n",
    "#### Mathematical operators\n",
    "These are quite intuitive. \n",
    "\n",
    "* `+` allows you to add numbers (and potentially other things)\n",
    "* `-` allows you to subtract numbers\n",
    "* `*` multiplication\n",
    "* `/` division"
   ]
  },
  {
   "cell_type": "code",
   "execution_count": null,
   "id": "76234bba",
   "metadata": {},
   "outputs": [],
   "source": [
    "#Imagine for some odd reason I wanted to know the values of 1-10 divided by seven. I could implement a simple algorithm that looks like the following.\n",
    "\n",
    "my_variable = range(1,11)\n",
    "print(\"My range is \", list(my_variable), \"\\n\")\n",
    "\n",
    "for num in my_variable:\n",
    "    print(num/7)\n",
    "    \n",
    "#Feel free to modify this code and see if you can come up with something different. Just be aware that the reset button resets the computation, not the contents of the cells."
   ]
  },
  {
   "cell_type": "markdown",
   "id": "29159ee2",
   "metadata": {
    "deletable": false,
    "editable": false
   },
   "source": [
    "#### Functions & Classes (an introduction)\n",
    "As year 2 students you are no doubt familiar with the idea that we can package up code and have it communicate with a different part of code. This is abstraction: when we take a whole bunch of complexity, package it up in a nice little box, and instead simply ask:\n",
    "> What goes in this box? What comes out of this box?\n",
    "\n",
    "In the same way we should ask, what needs to go into my function, and what should come out of my function. Not all functions receive inputs, and not all functions have outputs, but let's look at the ones that do.Take a look at the code in the following cell. "
   ]
  },
  {
   "cell_type": "code",
   "execution_count": null,
   "id": "d6581d6c",
   "metadata": {},
   "outputs": [],
   "source": [
    "# def shows that we're starting a function\n",
    "def multiplier(base, multiplier):\n",
    "    #The indent or tab is a necessary part of the function. Python uses what is called whitespace.\n",
    "    #Think of whitespace as invisible, but necessary code.\n",
    "    return (base * multiplier) #return ends the function, although technically speaking it is only necessary if you're returning something.\n"
   ]
  },
  {
   "cell_type": "code",
   "execution_count": null,
   "id": "89adcb0a",
   "metadata": {},
   "outputs": [],
   "source": [
    "#now let's use our function. Note that as long as the other cells have been run, they are part of the whole program.\n",
    "answer = multiplier(5,40)#This function needs two inputs, and they have to be intigers.\n",
    "print(answer)"
   ]
  },
  {
   "cell_type": "code",
   "execution_count": null,
   "id": "0f68ed31",
   "metadata": {},
   "outputs": [],
   "source": [
    "#let's make a more complicated function.\n",
    "#note the tempo: I make the function -> it doesn't do anything, it's just a template -> I call the function, it does something.\n",
    "def wordlength(string):\n",
    "    wlengths = []\n",
    "    counter = 0\n",
    "    for char in string:\n",
    "        if char != ' ':\n",
    "            counter += 1\n",
    "        else:\n",
    "            wlengths.append(counter)\n",
    "            counter = 0\n",
    "    return wlengths\n",
    "\n",
    "#this time we'll run it in the same cell\n",
    "answer = wordlength(\"this is my really, really long string for an example.\")\n",
    "print(answer)\n",
    "#uh-oh, this function isn't working the way that I want it to! What's wrong? What do I need to change to fix it?"
   ]
  },
  {
   "cell_type": "markdown",
   "id": "9f8e644f",
   "metadata": {
    "deletable": false,
    "editable": false
   },
   "source": [
    "#### class\n",
    "A class is the lifeblood of much programming. It is a high level of abstraction, and comes with an immense amount of power. I'm just going to show it to you today. We'll work with it later. Note that a class can pretty much have all the pieces we've already laid out: functions, variables, input and output. One major difference is that a class becomes it's own data type. See an example below. "
   ]
  },
  {
   "cell_type": "code",
   "execution_count": null,
   "id": "fa18cae6",
   "metadata": {},
   "outputs": [],
   "source": [
    "import random #what's this?! Anyone know?\n",
    "\n",
    "class Student:\n",
    "    \n",
    "    def __init__(self): #self is another special aspect of classes, I'll explain why they're necessary later.\n",
    "        print(\"The above is a special function, often called the \\'dunder\\'' function. \\\n",
    "It says, run everything here when this class is called.\")\n",
    "        invisiblevariable = 5000\n",
    "        self.visible = 10000\n",
    "        self.awesomeness = self.powergauge(invisiblevariable, self.visible)\n",
    "        \n",
    "        \n",
    "    def powergauge(self, v1, v2):\n",
    "        awesome_dictionary = {}\n",
    "        nv1 = random.randint(v1,v2)\n",
    "        nv2 = random.randint(v1,v2)\n",
    "        awesome_dictionary['awesome'] = nv1 * nv2\n",
    "        return(awesome_dictionary)\n",
    "        \n",
    "student = Student()\n",
    "#what happened! I built a class, then I instantiated that class, and still it didn't give me anything!?\n",
    "\n",
    "#actually it did, it's just waiting for you to ask in the right place. \n",
    "\n",
    "#let's take the following \n",
    "\n",
    "#print(student.awesomeness)"
   ]
  },
  {
   "cell_type": "markdown",
   "id": "ef1d31b8",
   "metadata": {
    "deletable": false,
    "editable": false
   },
   "source": [
    "### Your turn\n",
    "Alright, now you know some computing basics. Time to practice. Please answer the five questions below. Note that if you pass the assert check, you have found a right answer. I say 'a' because it is very likely that you could have gotten to that answer using a different algorithm as well. Good luck!"
   ]
  },
  {
   "cell_type": "markdown",
   "id": "0eb68375",
   "metadata": {
    "deletable": false,
    "editable": false
   },
   "source": [
    "#### Question 1\n",
    "In order to successfully pass the assert check, you will need to have\n",
    "a variable that is called `answer1`, and has the right value in it and a variable that has `answer2` with the right answer as well."
   ]
  },
  {
   "cell_type": "code",
   "execution_count": null,
   "id": "98d3ab0b",
   "metadata": {},
   "outputs": [],
   "source": [
    "# your code here\n",
    "#Let's check how well you understand data types. Change the variable so that it will pass the following assert checks.\n",
    "answer1 = 'your answer here'\n",
    "answer2 = 'your answer here'"
   ]
  },
  {
   "cell_type": "code",
   "execution_count": null,
   "id": "3464666b",
   "metadata": {
    "deletable": false,
    "editable": false
   },
   "outputs": [],
   "source": [
    "#Question 1 assert check\n",
    "assert answer1 + '2' == '12'\n",
    "assert answer2 + 2 == 3"
   ]
  },
  {
   "cell_type": "markdown",
   "id": "d6c04f2b",
   "metadata": {},
   "source": [
    "#### Question 2\n",
    "Let's do a little work with mathematical operators and order of operation. Add parenthesis to the expression `6 * 1 -2` so that it's value changes from 4 to -6."
   ]
  },
  {
   "cell_type": "code",
   "execution_count": null,
   "id": "9af17887",
   "metadata": {},
   "outputs": [],
   "source": [
    "q2ans = 6 * 1 - 2"
   ]
  },
  {
   "cell_type": "code",
   "execution_count": null,
   "id": "309af904",
   "metadata": {
    "deletable": false,
    "editable": false
   },
   "outputs": [],
   "source": [
    "assert q2ans == -6"
   ]
  },
  {
   "cell_type": "markdown",
   "id": "11623421",
   "metadata": {},
   "source": [
    "#### Question 3\n",
    "If this notebook were to take you 3891 hours to complete, and you worked 24 hours a day. How many days would it take for you to complete your notebook? Write code that will you get the answer."
   ]
  },
  {
   "cell_type": "code",
   "execution_count": null,
   "id": "8229359e",
   "metadata": {},
   "outputs": [],
   "source": [
    "# your code here\n",
    "q3ans = ''"
   ]
  },
  {
   "cell_type": "code",
   "execution_count": null,
   "id": "ce2b7f64",
   "metadata": {
    "deletable": false,
    "editable": false
   },
   "outputs": [],
   "source": [
    "assert q3ans == 162.125, \"Nope, that answer's not right. Did you get rid of \\'\\'\""
   ]
  },
  {
   "cell_type": "markdown",
   "id": "0c6a3234",
   "metadata": {
    "deletable": false,
    "editable": false
   },
   "source": [
    "#### Question 4\n",
    "Now let's work with the for loop and the if statement. I want you to take the string `an aardvark is an awesome creature` and remove all the `a`s from the string. Only `a` not `A`."
   ]
  },
  {
   "cell_type": "code",
   "execution_count": null,
   "id": "9aae041d",
   "metadata": {},
   "outputs": [],
   "source": [
    "aardvark = 'Aardvarks are mammals that look like they were made from parts of other animals.'\\\n",
    "'An aardvark has a long snout that ends with a pig-like nose, rabbit-like ears and a tail similar'\\\n",
    "'to a kangaroos. Yet it is not closely related to any of those animals. Aardvarks are found throughout'\\\n",
    "'sub-Saharan Africa. The aardvarks name comes from the Afrikaans/Dutch language and means earth pig,'\\\n",
    "'according to National Geographic (opens in new tab). Though they do eat ants — so they are technically'\\\n",
    "'ant eaters — aardvarks are a separate species from anteaters, which are found in South America.'\n",
    "answer = ''\n",
    "for character in aardvark:\n",
    "    pass #delete the pass as you build your for loop\n"
   ]
  },
  {
   "cell_type": "code",
   "execution_count": null,
   "id": "3009003a",
   "metadata": {
    "deletable": false,
    "editable": false
   },
   "outputs": [],
   "source": [
    "assert answer == 'Ardvrks re mmmls tht look like they were mde from prts of other nimls.An rdvrk hs  long snout tht ends with  pig-like nose, rbbit-like ers nd  til similrto  kngroos. Yet it is not closely relted to ny of those nimls. Ardvrks re found throughoutsub-Shrn Afric. The rdvrks nme comes from the Afrikns/Dutch lnguge nd mens erth pig,ccording to Ntionl Geogrphic (opens in new tb). Though they do et nts — so they re technicllynt eters — rdvrks re  seprte species from nteters, which re found in South Americ.'"
   ]
  },
  {
   "cell_type": "markdown",
   "id": "74b20209",
   "metadata": {
    "deletable": false,
    "editable": false
   },
   "source": [
    "#### Question 5\n",
    "Write a function named 'wordcounter' that tells me how many words are in each sentence. This function should accept a list and return a list as its parameters. "
   ]
  },
  {
   "cell_type": "code",
   "execution_count": null,
   "id": "ba78921d",
   "metadata": {},
   "outputs": [],
   "source": [
    "#your code here\n",
    "#you might find list.append() very helpful while building your solution!\n",
    "sentences = ['This is one sentence.', 'This is another sentence that is similar.', 'this is a third sentence.']"
   ]
  },
  {
   "cell_type": "code",
   "execution_count": null,
   "id": "f5f26137",
   "metadata": {
    "deletable": false,
    "editable": false
   },
   "outputs": [],
   "source": [
    "assert wordcounter(sentences) == [4,7,5]"
   ]
  }
 ],
 "metadata": {
  "kernelspec": {
   "display_name": "Python 3 (ipykernel)",
   "language": "python",
   "name": "python3"
  },
  "language_info": {
   "codemirror_mode": {
    "name": "ipython",
    "version": 3
   },
   "file_extension": ".py",
   "mimetype": "text/x-python",
   "name": "python",
   "nbconvert_exporter": "python",
   "pygments_lexer": "ipython3",
   "version": "3.9.7"
  }
 },
 "nbformat": 4,
 "nbformat_minor": 5
}
